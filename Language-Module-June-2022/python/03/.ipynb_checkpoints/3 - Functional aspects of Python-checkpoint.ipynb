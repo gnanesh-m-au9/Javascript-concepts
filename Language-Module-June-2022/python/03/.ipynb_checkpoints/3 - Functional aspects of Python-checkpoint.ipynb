{
 "cells": [
  {
   "cell_type": "code",
   "execution_count": 1,
   "id": "fb4559a5",
   "metadata": {},
   "outputs": [
    {
     "name": "stdout",
     "output_type": "stream",
     "text": [
      "False\n"
     ]
    }
   ],
   "source": [
    "tup1 = (1,2)\n",
    "tup2 = (1,2)\n",
    "\n",
    "print(id(tup1) == id(tup2))"
   ]
  },
  {
   "cell_type": "code",
   "execution_count": 5,
   "id": "d23df779",
   "metadata": {},
   "outputs": [],
   "source": [
    "def computations(a,b):\n",
    "    return a+b, a-b, a*b, a//b\n",
    "\n",
    "x,y,_,_ = computations(10,2)\n",
    "# _ is also known as a throw away variable"
   ]
  },
  {
   "cell_type": "code",
   "execution_count": 6,
   "id": "6adfcd5c",
   "metadata": {},
   "outputs": [
    {
     "name": "stdout",
     "output_type": "stream",
     "text": [
      "12 8 5\n"
     ]
    }
   ],
   "source": [
    "print(x,y,_)"
   ]
  },
  {
   "cell_type": "markdown",
   "id": "96347e7e",
   "metadata": {},
   "source": [
    "### Lambda Functions"
   ]
  },
  {
   "cell_type": "code",
   "execution_count": 9,
   "id": "3384e4d6",
   "metadata": {},
   "outputs": [],
   "source": [
    "def square_boring(x):\n",
    "    return x**2\n",
    "\n",
    "# where we have a function which has a small , rather single line return function body"
   ]
  },
  {
   "cell_type": "code",
   "execution_count": 10,
   "id": "d53db98c",
   "metadata": {},
   "outputs": [],
   "source": [
    "#lambda functions"
   ]
  },
  {
   "cell_type": "code",
   "execution_count": 14,
   "id": "69b63ef1",
   "metadata": {},
   "outputs": [],
   "source": [
    "square_cool = lambda x: x**2"
   ]
  },
  {
   "cell_type": "code",
   "execution_count": 15,
   "id": "1be576b9",
   "metadata": {},
   "outputs": [
    {
     "data": {
      "text/plain": [
       "25"
      ]
     },
     "execution_count": 15,
     "metadata": {},
     "output_type": "execute_result"
    }
   ],
   "source": [
    "square_cool(5)"
   ]
  },
  {
   "cell_type": "code",
   "execution_count": 16,
   "id": "2d128856",
   "metadata": {},
   "outputs": [],
   "source": [
    "add_cool = lambda x,y: x+y"
   ]
  },
  {
   "cell_type": "code",
   "execution_count": 17,
   "id": "a6bf7127",
   "metadata": {},
   "outputs": [
    {
     "data": {
      "text/plain": [
       "9"
      ]
     },
     "execution_count": 17,
     "metadata": {},
     "output_type": "execute_result"
    }
   ],
   "source": [
    "add_cool(4,5)"
   ]
  },
  {
   "cell_type": "code",
   "execution_count": 18,
   "id": "a2d9de0f",
   "metadata": {},
   "outputs": [
    {
     "data": {
      "text/plain": [
       "function"
      ]
     },
     "execution_count": 18,
     "metadata": {},
     "output_type": "execute_result"
    }
   ],
   "source": [
    "type(lambda x: x**3)"
   ]
  },
  {
   "cell_type": "code",
   "execution_count": 20,
   "id": "aedcde1e",
   "metadata": {},
   "outputs": [
    {
     "data": {
      "text/plain": [
       "8"
      ]
     },
     "execution_count": 20,
     "metadata": {},
     "output_type": "execute_result"
    }
   ],
   "source": [
    "(lambda x: x**3)(2)\n",
    "# can be treated as anonymous functions"
   ]
  },
  {
   "cell_type": "code",
   "execution_count": 31,
   "id": "dd6a58ae",
   "metadata": {},
   "outputs": [],
   "source": [
    "students = [\n",
    "    {\"name\": \"A\", \"marks\": 50},\n",
    "    {\"name\": \"B\", \"marks\": 100},\n",
    "    {\"name\": \"C\", \"marks\": 70},\n",
    "    {\"name\": \"D\", \"marks\": 80},\n",
    "    {\"name\": \"E\"},\n",
    "]"
   ]
  },
  {
   "cell_type": "code",
   "execution_count": 22,
   "id": "1f28cd06",
   "metadata": {},
   "outputs": [],
   "source": [
    "a = [1,5,2,4,5,1,6,7,8]"
   ]
  },
  {
   "cell_type": "code",
   "execution_count": 23,
   "id": "add9c479",
   "metadata": {},
   "outputs": [
    {
     "data": {
      "text/plain": [
       "[1, 1, 2, 4, 5, 5, 6, 7, 8]"
      ]
     },
     "execution_count": 23,
     "metadata": {},
     "output_type": "execute_result"
    }
   ],
   "source": [
    "list(sorted(a))"
   ]
  },
  {
   "cell_type": "code",
   "execution_count": 24,
   "id": "a5134f33",
   "metadata": {},
   "outputs": [
    {
     "ename": "TypeError",
     "evalue": "'<' not supported between instances of 'dict' and 'dict'",
     "output_type": "error",
     "traceback": [
      "\u001b[0;31m---------------------------------------------------------------------------\u001b[0m",
      "\u001b[0;31mTypeError\u001b[0m                                 Traceback (most recent call last)",
      "\u001b[0;32m/var/folders/nn/c52y0d3j0gq59dpsswchkt2r0000gn/T/ipykernel_83387/1215754390.py\u001b[0m in \u001b[0;36m<module>\u001b[0;34m\u001b[0m\n\u001b[0;32m----> 1\u001b[0;31m \u001b[0mlist\u001b[0m\u001b[0;34m(\u001b[0m\u001b[0msorted\u001b[0m\u001b[0;34m(\u001b[0m\u001b[0mstudents\u001b[0m\u001b[0;34m)\u001b[0m\u001b[0;34m)\u001b[0m\u001b[0;34m\u001b[0m\u001b[0;34m\u001b[0m\u001b[0m\n\u001b[0m",
      "\u001b[0;31mTypeError\u001b[0m: '<' not supported between instances of 'dict' and 'dict'"
     ]
    }
   ],
   "source": [
    "list(sorted(students))"
   ]
  },
  {
   "cell_type": "code",
   "execution_count": 32,
   "id": "89c0f48e",
   "metadata": {},
   "outputs": [
    {
     "data": {
      "text/plain": [
       "[{'name': 'A', 'marks': 50},\n",
       " {'name': 'B', 'marks': 100},\n",
       " {'name': 'C', 'marks': 70},\n",
       " {'name': 'D', 'marks': 80},\n",
       " {'name': 'E'}]"
      ]
     },
     "execution_count": 32,
     "metadata": {},
     "output_type": "execute_result"
    }
   ],
   "source": [
    "list(sorted(students, key = lambda x: x[\"name\"]))"
   ]
  },
  {
   "cell_type": "code",
   "execution_count": null,
   "id": "919e307b",
   "metadata": {},
   "outputs": [],
   "source": []
  }
 ],
 "metadata": {
  "kernelspec": {
   "display_name": "Python 3 (ipykernel)",
   "language": "python",
   "name": "python3"
  },
  "language_info": {
   "codemirror_mode": {
    "name": "ipython",
    "version": 3
   },
   "file_extension": ".py",
   "mimetype": "text/x-python",
   "name": "python",
   "nbconvert_exporter": "python",
   "pygments_lexer": "ipython3",
   "version": "3.9.5"
  }
 },
 "nbformat": 4,
 "nbformat_minor": 5
}
