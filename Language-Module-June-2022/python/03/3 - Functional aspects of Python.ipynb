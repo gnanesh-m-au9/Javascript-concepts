{
 "cells": [
  {
   "cell_type": "code",
   "execution_count": 1,
   "id": "2b81db90",
   "metadata": {},
   "outputs": [
    {
     "name": "stdout",
     "output_type": "stream",
     "text": [
      "False\n"
     ]
    }
   ],
   "source": [
    "tup1 = (1,2)\n",
    "tup2 = (1,2)\n",
    "\n",
    "print(id(tup1) == id(tup2))"
   ]
  },
  {
   "cell_type": "code",
   "execution_count": 5,
   "id": "b8188eeb",
   "metadata": {},
   "outputs": [],
   "source": [
    "def computations(a,b):\n",
    "    return a+b, a-b, a*b, a//b\n",
    "\n",
    "x,y,_,_ = computations(10,2)\n",
    "# _ is also known as a throw away variable"
   ]
  },
  {
   "cell_type": "code",
   "execution_count": 6,
   "id": "87cee835",
   "metadata": {},
   "outputs": [
    {
     "name": "stdout",
     "output_type": "stream",
     "text": [
      "12 8 5\n"
     ]
    }
   ],
   "source": [
    "print(x,y,_)"
   ]
  },
  {
   "cell_type": "markdown",
   "id": "16b26536",
   "metadata": {},
   "source": [
    "### Lambda Functions"
   ]
  },
  {
   "cell_type": "code",
   "execution_count": 9,
   "id": "bae7a17d",
   "metadata": {},
   "outputs": [],
   "source": [
    "def square_boring(x):\n",
    "    return x**2\n",
    "\n",
    "# where we have a function which has a small , rather single line return function body"
   ]
  },
  {
   "cell_type": "code",
   "execution_count": 10,
   "id": "9ac54dad",
   "metadata": {},
   "outputs": [],
   "source": [
    "#lambda functions"
   ]
  },
  {
   "cell_type": "code",
   "execution_count": 14,
   "id": "b166fb55",
   "metadata": {},
   "outputs": [],
   "source": [
    "square_cool = lambda x: x**2"
   ]
  },
  {
   "cell_type": "code",
   "execution_count": 15,
   "id": "665f9dad",
   "metadata": {},
   "outputs": [
    {
     "data": {
      "text/plain": [
       "25"
      ]
     },
     "execution_count": 15,
     "metadata": {},
     "output_type": "execute_result"
    }
   ],
   "source": [
    "square_cool(5)"
   ]
  },
  {
   "cell_type": "code",
   "execution_count": 16,
   "id": "a86b5103",
   "metadata": {},
   "outputs": [],
   "source": [
    "add_cool = lambda x,y: x+y"
   ]
  },
  {
   "cell_type": "code",
   "execution_count": 17,
   "id": "b5c86d10",
   "metadata": {},
   "outputs": [
    {
     "data": {
      "text/plain": [
       "9"
      ]
     },
     "execution_count": 17,
     "metadata": {},
     "output_type": "execute_result"
    }
   ],
   "source": [
    "add_cool(4,5)"
   ]
  },
  {
   "cell_type": "code",
   "execution_count": 18,
   "id": "652cf8d0",
   "metadata": {},
   "outputs": [
    {
     "data": {
      "text/plain": [
       "function"
      ]
     },
     "execution_count": 18,
     "metadata": {},
     "output_type": "execute_result"
    }
   ],
   "source": [
    "type(lambda x: x**3)"
   ]
  },
  {
   "cell_type": "code",
   "execution_count": 20,
   "id": "da7feefd",
   "metadata": {},
   "outputs": [
    {
     "data": {
      "text/plain": [
       "8"
      ]
     },
     "execution_count": 20,
     "metadata": {},
     "output_type": "execute_result"
    }
   ],
   "source": [
    "(lambda x: x**3)(2)\n",
    "# can be treated as anonymous functions"
   ]
  },
  {
   "cell_type": "code",
   "execution_count": 38,
   "id": "c65dd5de",
   "metadata": {},
   "outputs": [],
   "source": [
    "students = [\n",
    "    {\"name\": \"A\", \"marks\": 50},\n",
    "    {\"name\": \"B\", \"marks\": 100},\n",
    "    {\"name\": \"C\", \"marks\": 70},\n",
    "    {\"name\": \"D\", \"marks\": 80},\n",
    "    {\"name\": \"E\", \"marks\": 30},\n",
    "]"
   ]
  },
  {
   "cell_type": "code",
   "execution_count": 22,
   "id": "03239d84",
   "metadata": {},
   "outputs": [],
   "source": [
    "a = [1,5,2,4,5,1,6,7,8]"
   ]
  },
  {
   "cell_type": "code",
   "execution_count": 23,
   "id": "2bfbd549",
   "metadata": {},
   "outputs": [
    {
     "data": {
      "text/plain": [
       "[1, 1, 2, 4, 5, 5, 6, 7, 8]"
      ]
     },
     "execution_count": 23,
     "metadata": {},
     "output_type": "execute_result"
    }
   ],
   "source": [
    "list(sorted(a))"
   ]
  },
  {
   "cell_type": "code",
   "execution_count": 24,
   "id": "413c8376",
   "metadata": {},
   "outputs": [
    {
     "ename": "TypeError",
     "evalue": "'<' not supported between instances of 'dict' and 'dict'",
     "output_type": "error",
     "traceback": [
      "\u001b[0;31m---------------------------------------------------------------------------\u001b[0m",
      "\u001b[0;31mTypeError\u001b[0m                                 Traceback (most recent call last)",
      "\u001b[0;32m/var/folders/nn/c52y0d3j0gq59dpsswchkt2r0000gn/T/ipykernel_83387/1215754390.py\u001b[0m in \u001b[0;36m<module>\u001b[0;34m\u001b[0m\n\u001b[0;32m----> 1\u001b[0;31m \u001b[0mlist\u001b[0m\u001b[0;34m(\u001b[0m\u001b[0msorted\u001b[0m\u001b[0;34m(\u001b[0m\u001b[0mstudents\u001b[0m\u001b[0;34m)\u001b[0m\u001b[0;34m)\u001b[0m\u001b[0;34m\u001b[0m\u001b[0;34m\u001b[0m\u001b[0m\n\u001b[0m",
      "\u001b[0;31mTypeError\u001b[0m: '<' not supported between instances of 'dict' and 'dict'"
     ]
    }
   ],
   "source": [
    "list(sorted(students))"
   ]
  },
  {
   "cell_type": "code",
   "execution_count": 39,
   "id": "17013fc7",
   "metadata": {},
   "outputs": [],
   "source": [
    "def return_marks(x):\n",
    "    return x[\"marks\"]"
   ]
  },
  {
   "cell_type": "code",
   "execution_count": 34,
   "id": "4849e5a0",
   "metadata": {
    "scrolled": true
   },
   "outputs": [
    {
     "ename": "KeyError",
     "evalue": "'marks'",
     "output_type": "error",
     "traceback": [
      "\u001b[0;31m---------------------------------------------------------------------------\u001b[0m",
      "\u001b[0;31mKeyError\u001b[0m                                  Traceback (most recent call last)",
      "\u001b[0;32m/var/folders/nn/c52y0d3j0gq59dpsswchkt2r0000gn/T/ipykernel_83387/3862512285.py\u001b[0m in \u001b[0;36m<module>\u001b[0;34m\u001b[0m\n\u001b[0;32m----> 1\u001b[0;31m \u001b[0mlist\u001b[0m\u001b[0;34m(\u001b[0m\u001b[0msorted\u001b[0m\u001b[0;34m(\u001b[0m\u001b[0mstudents\u001b[0m\u001b[0;34m,\u001b[0m \u001b[0mkey\u001b[0m \u001b[0;34m=\u001b[0m \u001b[0;32mlambda\u001b[0m \u001b[0mx\u001b[0m\u001b[0;34m:\u001b[0m \u001b[0mx\u001b[0m\u001b[0;34m[\u001b[0m\u001b[0;34m\"marks\"\u001b[0m\u001b[0;34m]\u001b[0m\u001b[0;34m)\u001b[0m\u001b[0;34m)\u001b[0m\u001b[0;34m\u001b[0m\u001b[0;34m\u001b[0m\u001b[0m\n\u001b[0m",
      "\u001b[0;32m/var/folders/nn/c52y0d3j0gq59dpsswchkt2r0000gn/T/ipykernel_83387/3862512285.py\u001b[0m in \u001b[0;36m<lambda>\u001b[0;34m(x)\u001b[0m\n\u001b[0;32m----> 1\u001b[0;31m \u001b[0mlist\u001b[0m\u001b[0;34m(\u001b[0m\u001b[0msorted\u001b[0m\u001b[0;34m(\u001b[0m\u001b[0mstudents\u001b[0m\u001b[0;34m,\u001b[0m \u001b[0mkey\u001b[0m \u001b[0;34m=\u001b[0m \u001b[0;32mlambda\u001b[0m \u001b[0mx\u001b[0m\u001b[0;34m:\u001b[0m \u001b[0mx\u001b[0m\u001b[0;34m[\u001b[0m\u001b[0;34m\"marks\"\u001b[0m\u001b[0;34m]\u001b[0m\u001b[0;34m)\u001b[0m\u001b[0;34m)\u001b[0m\u001b[0;34m\u001b[0m\u001b[0;34m\u001b[0m\u001b[0m\n\u001b[0m",
      "\u001b[0;31mKeyError\u001b[0m: 'marks'"
     ]
    }
   ],
   "source": [
    "list(sorted(students, key = lambda x: x[\"marks\"]))"
   ]
  },
  {
   "cell_type": "code",
   "execution_count": 43,
   "id": "18980dbb",
   "metadata": {},
   "outputs": [
    {
     "data": {
      "text/plain": [
       "[{'name': 'E', 'marks': 30},\n",
       " {'name': 'A', 'marks': 50},\n",
       " {'name': 'C', 'marks': 70},\n",
       " {'name': 'D', 'marks': 80},\n",
       " {'name': 'B', 'marks': 100}]"
      ]
     },
     "execution_count": 43,
     "metadata": {},
     "output_type": "execute_result"
    }
   ],
   "source": [
    "list(sorted(students, key=return_marks))"
   ]
  },
  {
   "cell_type": "markdown",
   "id": "5ec0b56b",
   "metadata": {},
   "source": [
    "### Higher Order Functions"
   ]
  },
  {
   "cell_type": "code",
   "execution_count": 44,
   "id": "be7b8ea7",
   "metadata": {},
   "outputs": [],
   "source": [
    "# exp_2(5) -> 25\n",
    "# exp_5(4) -> 4^5"
   ]
  },
  {
   "cell_type": "code",
   "execution_count": 45,
   "id": "716820f9",
   "metadata": {},
   "outputs": [],
   "source": [
    "def gen_exp(n):\n",
    "    def exp(x):\n",
    "        return x**n\n",
    "\n",
    "    return exp"
   ]
  },
  {
   "cell_type": "code",
   "execution_count": 46,
   "id": "3aa99c88",
   "metadata": {},
   "outputs": [],
   "source": [
    "exp_2 = gen_exp(2)"
   ]
  },
  {
   "cell_type": "code",
   "execution_count": 47,
   "id": "7371bf26",
   "metadata": {},
   "outputs": [
    {
     "data": {
      "text/plain": [
       "100"
      ]
     },
     "execution_count": 47,
     "metadata": {},
     "output_type": "execute_result"
    }
   ],
   "source": [
    "exp_2(10)"
   ]
  },
  {
   "cell_type": "code",
   "execution_count": 48,
   "id": "4e7325b3",
   "metadata": {},
   "outputs": [
    {
     "name": "stdout",
     "output_type": "stream",
     "text": [
      "<function gen_exp.<locals>.exp at 0x7f98e87a88b0>\n"
     ]
    }
   ],
   "source": [
    "print(exp_2)"
   ]
  },
  {
   "cell_type": "code",
   "execution_count": 50,
   "id": "31125eb7",
   "metadata": {},
   "outputs": [
    {
     "data": {
      "text/plain": [
       "function"
      ]
     },
     "execution_count": 50,
     "metadata": {},
     "output_type": "execute_result"
    }
   ],
   "source": [
    "type(exp_2)"
   ]
  },
  {
   "cell_type": "markdown",
   "id": "fa5039ec",
   "metadata": {},
   "source": [
    "### Decorators"
   ]
  },
  {
   "cell_type": "code",
   "execution_count": 51,
   "id": "7ac1bbc8",
   "metadata": {},
   "outputs": [],
   "source": [
    "# would accept a function as an argument and return a modified function"
   ]
  },
  {
   "cell_type": "code",
   "execution_count": 54,
   "id": "5ba9ab3f",
   "metadata": {},
   "outputs": [],
   "source": [
    "def email(body):\n",
    "    print(\"Greetings!\")\n",
    "    print(body)\n",
    "    print(\"Regards\")"
   ]
  },
  {
   "cell_type": "code",
   "execution_count": 55,
   "id": "e5e51df3",
   "metadata": {},
   "outputs": [
    {
     "name": "stdout",
     "output_type": "stream",
     "text": [
      "Greetings!\n",
      "I am an email!\n",
      "Regards\n"
     ]
    }
   ],
   "source": [
    "email(\"I am an email!\")"
   ]
  },
  {
   "cell_type": "code",
   "execution_count": 56,
   "id": "12badff0",
   "metadata": {},
   "outputs": [],
   "source": [
    "def message(body):\n",
    "    print(\"Greetings!\")\n",
    "    print(body)\n",
    "    print(\"Regards\")"
   ]
  },
  {
   "cell_type": "code",
   "execution_count": 57,
   "id": "c2cec736",
   "metadata": {},
   "outputs": [
    {
     "name": "stdout",
     "output_type": "stream",
     "text": [
      "Greetings!\n",
      "weird message!\n",
      "Regards\n"
     ]
    }
   ],
   "source": [
    "message(\"weird message!\")"
   ]
  },
  {
   "cell_type": "code",
   "execution_count": 62,
   "id": "17806811",
   "metadata": {},
   "outputs": [],
   "source": [
    "def formal_message(func):\n",
    "    def wrapper(body):\n",
    "        print(\"Greetings!\")\n",
    "        func(body)\n",
    "        print(\"Regards\")\n",
    "        \n",
    "    return wrapper"
   ]
  },
  {
   "cell_type": "code",
   "execution_count": 63,
   "id": "0cbceb07",
   "metadata": {},
   "outputs": [],
   "source": [
    "def email(body):\n",
    "    print(body)"
   ]
  },
  {
   "cell_type": "code",
   "execution_count": 64,
   "id": "cbc507df",
   "metadata": {},
   "outputs": [],
   "source": [
    "decorated_email = formal_message(email)"
   ]
  },
  {
   "cell_type": "code",
   "execution_count": 65,
   "id": "237f6d4e",
   "metadata": {},
   "outputs": [
    {
     "name": "stdout",
     "output_type": "stream",
     "text": [
      "Greetings!\n",
      "WHAT AN EMAIL!!\n",
      "Regards\n"
     ]
    }
   ],
   "source": [
    "decorated_email(\"WHAT AN EMAIL!!\")"
   ]
  },
  {
   "cell_type": "code",
   "execution_count": 66,
   "id": "981bee82",
   "metadata": {},
   "outputs": [],
   "source": [
    "decorated_message = formal_message(message)"
   ]
  },
  {
   "cell_type": "code",
   "execution_count": 67,
   "id": "c0bbb72b",
   "metadata": {},
   "outputs": [
    {
     "name": "stdout",
     "output_type": "stream",
     "text": [
      "Greetings!\n",
      "Greetings!\n",
      "WHAT A NONSENSE MESSAGE!\n",
      "Regards\n",
      "Regards\n"
     ]
    }
   ],
   "source": [
    "decorated_message(\"WHAT A NONSENSE MESSAGE!\")"
   ]
  },
  {
   "cell_type": "code",
   "execution_count": 68,
   "id": "6c31ae7d",
   "metadata": {},
   "outputs": [],
   "source": [
    "def pretty(func):\n",
    "    def wrapper():\n",
    "        print(\"-\"*50)\n",
    "        func()\n",
    "        print(\"-\"*50)\n",
    "        \n",
    "    return wrapper"
   ]
  },
  {
   "cell_type": "code",
   "execution_count": 69,
   "id": "1de18ecf",
   "metadata": {},
   "outputs": [],
   "source": [
    "def hello():\n",
    "    print(\"Howdie?\")"
   ]
  },
  {
   "cell_type": "code",
   "execution_count": 70,
   "id": "edc06d4b",
   "metadata": {},
   "outputs": [],
   "source": [
    "decorated_hello = pretty(hello)"
   ]
  },
  {
   "cell_type": "code",
   "execution_count": 71,
   "id": "7740fa9b",
   "metadata": {},
   "outputs": [
    {
     "name": "stdout",
     "output_type": "stream",
     "text": [
      "--------------------------------------------------\n",
      "Howdie?\n",
      "--------------------------------------------------\n"
     ]
    }
   ],
   "source": [
    "decorated_hello()"
   ]
  },
  {
   "cell_type": "code",
   "execution_count": 72,
   "id": "d045a5ab",
   "metadata": {},
   "outputs": [],
   "source": [
    "@pretty\n",
    "def woah():\n",
    "    print(\"WOAAHHHHHH!!!\")"
   ]
  },
  {
   "cell_type": "code",
   "execution_count": 73,
   "id": "d289f1c8",
   "metadata": {},
   "outputs": [
    {
     "name": "stdout",
     "output_type": "stream",
     "text": [
      "--------------------------------------------------\n",
      "WOAAHHHHHH!!!\n",
      "--------------------------------------------------\n"
     ]
    }
   ],
   "source": [
    "woah()"
   ]
  },
  {
   "cell_type": "markdown",
   "id": "5f2b9c59",
   "metadata": {},
   "source": [
    "### MAPS"
   ]
  },
  {
   "cell_type": "code",
   "execution_count": 74,
   "id": "56fc7d6d",
   "metadata": {},
   "outputs": [],
   "source": [
    "a = [1,2,3,4,5]"
   ]
  },
  {
   "cell_type": "code",
   "execution_count": 75,
   "id": "0e6ac7fc",
   "metadata": {},
   "outputs": [],
   "source": [
    "m = map(lambda x: x**2, a)"
   ]
  },
  {
   "cell_type": "code",
   "execution_count": 76,
   "id": "cf2512f5",
   "metadata": {},
   "outputs": [
    {
     "data": {
      "text/plain": [
       "<map at 0x7f98e87a7c40>"
      ]
     },
     "execution_count": 76,
     "metadata": {},
     "output_type": "execute_result"
    }
   ],
   "source": [
    "m"
   ]
  },
  {
   "cell_type": "code",
   "execution_count": 77,
   "id": "e39e9a0d",
   "metadata": {},
   "outputs": [],
   "source": [
    "m_list = list(m)"
   ]
  },
  {
   "cell_type": "code",
   "execution_count": 78,
   "id": "ec660d9a",
   "metadata": {},
   "outputs": [
    {
     "data": {
      "text/plain": [
       "[1, 4, 9, 16, 25]"
      ]
     },
     "execution_count": 78,
     "metadata": {},
     "output_type": "execute_result"
    }
   ],
   "source": [
    "m_list"
   ]
  },
  {
   "cell_type": "code",
   "execution_count": 79,
   "id": "914a9150",
   "metadata": {},
   "outputs": [],
   "source": [
    "A = [1,0,1,1,1,0,0,0,1,0,1,0,1,0,1,0,1,1,1,0,0]\n",
    "B = [1,0,0,0,1,1,1,0,0,0,1,1,0,1,1,0,0,1,0,1,1]"
   ]
  },
  {
   "cell_type": "code",
   "execution_count": 81,
   "id": "da7f698a",
   "metadata": {},
   "outputs": [],
   "source": [
    "result = []\n",
    "for i in range(len(A)):\n",
    "    result.append(A[i] == B[i])"
   ]
  },
  {
   "cell_type": "code",
   "execution_count": 82,
   "id": "d0df0fb1",
   "metadata": {},
   "outputs": [
    {
     "data": {
      "text/plain": [
       "[True,\n",
       " True,\n",
       " False,\n",
       " False,\n",
       " True,\n",
       " False,\n",
       " False,\n",
       " True,\n",
       " False,\n",
       " True,\n",
       " True,\n",
       " False,\n",
       " False,\n",
       " False,\n",
       " True,\n",
       " True,\n",
       " False,\n",
       " True,\n",
       " False,\n",
       " False,\n",
       " False]"
      ]
     },
     "execution_count": 82,
     "metadata": {},
     "output_type": "execute_result"
    }
   ],
   "source": [
    "result"
   ]
  },
  {
   "cell_type": "code",
   "execution_count": 83,
   "id": "c75b7c5c",
   "metadata": {},
   "outputs": [],
   "source": [
    "C = list(map(lambda x,y: x == y, A, B))"
   ]
  },
  {
   "cell_type": "code",
   "execution_count": 84,
   "id": "c175fe1b",
   "metadata": {},
   "outputs": [
    {
     "data": {
      "text/plain": [
       "[True,\n",
       " True,\n",
       " False,\n",
       " False,\n",
       " True,\n",
       " False,\n",
       " False,\n",
       " True,\n",
       " False,\n",
       " True,\n",
       " True,\n",
       " False,\n",
       " False,\n",
       " False,\n",
       " True,\n",
       " True,\n",
       " False,\n",
       " True,\n",
       " False,\n",
       " False,\n",
       " False]"
      ]
     },
     "execution_count": 84,
     "metadata": {},
     "output_type": "execute_result"
    }
   ],
   "source": [
    "C"
   ]
  },
  {
   "cell_type": "code",
   "execution_count": 85,
   "id": "ec66d5dc",
   "metadata": {},
   "outputs": [],
   "source": [
    "a = [1,2,3]\n",
    "b = [4,5,6]\n",
    "c = [7,8,9]\n",
    "\n",
    "d = list(map(lambda x,y,z: x+y+z, a,b,c))"
   ]
  },
  {
   "cell_type": "code",
   "execution_count": 86,
   "id": "9f1d1ba9",
   "metadata": {},
   "outputs": [
    {
     "data": {
      "text/plain": [
       "[12, 15, 18]"
      ]
     },
     "execution_count": 86,
     "metadata": {},
     "output_type": "execute_result"
    }
   ],
   "source": [
    "d"
   ]
  },
  {
   "cell_type": "markdown",
   "id": "6cc5dd0f",
   "metadata": {},
   "source": [
    "### Filters"
   ]
  },
  {
   "cell_type": "code",
   "execution_count": 87,
   "id": "e64bed4d",
   "metadata": {},
   "outputs": [],
   "source": [
    "a = [1,2,3,4,5,6,7,8,9,10]"
   ]
  },
  {
   "cell_type": "code",
   "execution_count": 88,
   "id": "3fc7d192",
   "metadata": {},
   "outputs": [],
   "source": [
    "f = filter(lambda x: x%2 == 0, a)"
   ]
  },
  {
   "cell_type": "code",
   "execution_count": 89,
   "id": "3c683fc3",
   "metadata": {},
   "outputs": [
    {
     "data": {
      "text/plain": [
       "<filter at 0x7f98e87a77c0>"
      ]
     },
     "execution_count": 89,
     "metadata": {},
     "output_type": "execute_result"
    }
   ],
   "source": [
    "f"
   ]
  },
  {
   "cell_type": "code",
   "execution_count": 90,
   "id": "08dc8000",
   "metadata": {},
   "outputs": [],
   "source": [
    "f_list = list(f)"
   ]
  },
  {
   "cell_type": "code",
   "execution_count": 91,
   "id": "10d2e7e7",
   "metadata": {},
   "outputs": [
    {
     "data": {
      "text/plain": [
       "[2, 4, 6, 8, 10]"
      ]
     },
     "execution_count": 91,
     "metadata": {},
     "output_type": "execute_result"
    }
   ],
   "source": [
    "f_list"
   ]
  },
  {
   "cell_type": "code",
   "execution_count": 93,
   "id": "18a978c1",
   "metadata": {},
   "outputs": [],
   "source": [
    "a = (1,2,3,4,5,6,7,8,9,10)"
   ]
  },
  {
   "cell_type": "code",
   "execution_count": 94,
   "id": "29e59b7e",
   "metadata": {},
   "outputs": [],
   "source": [
    "f2 = filter(lambda x: x%2 == 0, a)"
   ]
  },
  {
   "cell_type": "code",
   "execution_count": 95,
   "id": "d19aca39",
   "metadata": {},
   "outputs": [
    {
     "data": {
      "text/plain": [
       "<filter at 0x7f98e87a7550>"
      ]
     },
     "execution_count": 95,
     "metadata": {},
     "output_type": "execute_result"
    }
   ],
   "source": [
    "f2"
   ]
  },
  {
   "cell_type": "code",
   "execution_count": 96,
   "id": "698d8655",
   "metadata": {},
   "outputs": [
    {
     "data": {
      "text/plain": [
       "(2, 4, 6, 8, 10)"
      ]
     },
     "execution_count": 96,
     "metadata": {},
     "output_type": "execute_result"
    }
   ],
   "source": [
    "tuple(f2)"
   ]
  },
  {
   "cell_type": "markdown",
   "id": "8273c01b",
   "metadata": {},
   "source": [
    "### Reduce"
   ]
  },
  {
   "cell_type": "code",
   "execution_count": 97,
   "id": "ffaf434a",
   "metadata": {},
   "outputs": [],
   "source": [
    "from functools import reduce"
   ]
  },
  {
   "cell_type": "code",
   "execution_count": 101,
   "id": "3ed1f981",
   "metadata": {},
   "outputs": [],
   "source": [
    "a = list(range(1,11))"
   ]
  },
  {
   "cell_type": "code",
   "execution_count": 102,
   "id": "53ccaf5f",
   "metadata": {},
   "outputs": [
    {
     "data": {
      "text/plain": [
       "[1, 2, 3, 4, 5, 6, 7, 8, 9, 10]"
      ]
     },
     "execution_count": 102,
     "metadata": {},
     "output_type": "execute_result"
    }
   ],
   "source": [
    "a"
   ]
  },
  {
   "cell_type": "code",
   "execution_count": 103,
   "id": "77a014c2",
   "metadata": {},
   "outputs": [],
   "source": [
    "r = reduce(lambda x, y: x*y, a)"
   ]
  },
  {
   "cell_type": "code",
   "execution_count": 104,
   "id": "3bb44e91",
   "metadata": {},
   "outputs": [
    {
     "data": {
      "text/plain": [
       "3628800"
      ]
     },
     "execution_count": 104,
     "metadata": {},
     "output_type": "execute_result"
    }
   ],
   "source": [
    "r"
   ]
  },
  {
   "cell_type": "code",
   "execution_count": 105,
   "id": "23469b63",
   "metadata": {},
   "outputs": [],
   "source": [
    "a = range(2,8)"
   ]
  },
  {
   "cell_type": "code",
   "execution_count": 106,
   "id": "d55054e8",
   "metadata": {},
   "outputs": [
    {
     "data": {
      "text/plain": [
       "range(2, 8)"
      ]
     },
     "execution_count": 106,
     "metadata": {},
     "output_type": "execute_result"
    }
   ],
   "source": [
    "a"
   ]
  },
  {
   "cell_type": "code",
   "execution_count": 107,
   "id": "73c6930a",
   "metadata": {},
   "outputs": [
    {
     "data": {
      "text/plain": [
       "[2, 3, 4, 5, 6, 7]"
      ]
     },
     "execution_count": 107,
     "metadata": {},
     "output_type": "execute_result"
    }
   ],
   "source": [
    "list(a)"
   ]
  },
  {
   "cell_type": "code",
   "execution_count": 108,
   "id": "51e6d007",
   "metadata": {},
   "outputs": [
    {
     "data": {
      "text/plain": [
       "(2, 3, 4, 5, 6, 7)"
      ]
     },
     "execution_count": 108,
     "metadata": {},
     "output_type": "execute_result"
    }
   ],
   "source": [
    "tuple(a)"
   ]
  },
  {
   "cell_type": "code",
   "execution_count": 109,
   "id": "c0e995a2",
   "metadata": {},
   "outputs": [
    {
     "data": {
      "text/plain": [
       "range(2, 8)"
      ]
     },
     "execution_count": 109,
     "metadata": {},
     "output_type": "execute_result"
    }
   ],
   "source": [
    "a"
   ]
  },
  {
   "cell_type": "code",
   "execution_count": 110,
   "id": "56f7367d",
   "metadata": {},
   "outputs": [],
   "source": [
    "a = [1,5,6,89,23,4,5,2,34,3,56]"
   ]
  },
  {
   "cell_type": "code",
   "execution_count": 111,
   "id": "7cb6c8d6",
   "metadata": {},
   "outputs": [
    {
     "data": {
      "text/plain": [
       "89"
      ]
     },
     "execution_count": 111,
     "metadata": {},
     "output_type": "execute_result"
    }
   ],
   "source": [
    "max(a)"
   ]
  },
  {
   "cell_type": "code",
   "execution_count": 112,
   "id": "870411cb",
   "metadata": {},
   "outputs": [
    {
     "data": {
      "text/plain": [
       "89"
      ]
     },
     "execution_count": 112,
     "metadata": {},
     "output_type": "execute_result"
    }
   ],
   "source": [
    "reduce(lambda x,y: x if x>y else y, a)"
   ]
  },
  {
   "cell_type": "code",
   "execution_count": 114,
   "id": "8f80679a",
   "metadata": {},
   "outputs": [],
   "source": [
    "# HOMEWORK\n",
    "# a = {3,4,5,6,7}\n",
    "# All subsets of this set using one line of python"
   ]
  },
  {
   "cell_type": "markdown",
   "id": "c869e52c",
   "metadata": {},
   "source": [
    "### Zip"
   ]
  },
  {
   "cell_type": "code",
   "execution_count": 118,
   "id": "983d869a",
   "metadata": {},
   "outputs": [
    {
     "data": {
      "text/plain": [
       "<zip at 0x7f98e87bfac0>"
      ]
     },
     "execution_count": 118,
     "metadata": {},
     "output_type": "execute_result"
    }
   ],
   "source": [
    "a = [\"a\", \"b\", \"c\"]\n",
    "b = [1,2,3,4]\n",
    "\n",
    "zip(a,b)"
   ]
  },
  {
   "cell_type": "code",
   "execution_count": 120,
   "id": "82902f82",
   "metadata": {},
   "outputs": [
    {
     "data": {
      "text/plain": [
       "[('a', 1), ('b', 2), ('c', 3)]"
      ]
     },
     "execution_count": 120,
     "metadata": {},
     "output_type": "execute_result"
    }
   ],
   "source": [
    "list(zip(a,b))\n",
    "# zip would only run till the length of the smaller iterable"
   ]
  },
  {
   "cell_type": "code",
   "execution_count": 122,
   "id": "f07a98c2",
   "metadata": {},
   "outputs": [],
   "source": [
    "keys = [\"a\", \"b\", \"c\"]\n",
    "values = [1,2,3]"
   ]
  },
  {
   "cell_type": "code",
   "execution_count": 123,
   "id": "6a999c65",
   "metadata": {},
   "outputs": [],
   "source": [
    "myDict = { key:value for key, value in zip(keys,values) }"
   ]
  },
  {
   "cell_type": "code",
   "execution_count": 124,
   "id": "ea3edc62",
   "metadata": {},
   "outputs": [
    {
     "data": {
      "text/plain": [
       "{'a': 1, 'b': 2, 'c': 3}"
      ]
     },
     "execution_count": 124,
     "metadata": {},
     "output_type": "execute_result"
    }
   ],
   "source": [
    "myDict"
   ]
  },
  {
   "cell_type": "code",
   "execution_count": 125,
   "id": "a2b29909",
   "metadata": {},
   "outputs": [],
   "source": [
    "d1 = { f\"sqaure of {x}\":x**2 for x in [1,2,3,4,5] }"
   ]
  },
  {
   "cell_type": "code",
   "execution_count": 126,
   "id": "ecd5be10",
   "metadata": {},
   "outputs": [
    {
     "data": {
      "text/plain": [
       "{'sqaure of 1': 1,\n",
       " 'sqaure of 2': 4,\n",
       " 'sqaure of 3': 9,\n",
       " 'sqaure of 4': 16,\n",
       " 'sqaure of 5': 25}"
      ]
     },
     "execution_count": 126,
     "metadata": {},
     "output_type": "execute_result"
    }
   ],
   "source": [
    "d1"
   ]
  },
  {
   "cell_type": "code",
   "execution_count": 127,
   "id": "0bc39748",
   "metadata": {},
   "outputs": [],
   "source": [
    "a = [\"a\", \"b\", \"c\"]\n",
    "b = [1,2,3,4]\n",
    "c = [\"Oh\", \"My\", \"GAWWDDDDD!!!\"]"
   ]
  },
  {
   "cell_type": "code",
   "execution_count": 128,
   "id": "429e373d",
   "metadata": {},
   "outputs": [
    {
     "data": {
      "text/plain": [
       "[('a', 1, 'Oh'), ('b', 2, 'My'), ('c', 3, 'GAWWDDDDD!!!')]"
      ]
     },
     "execution_count": 128,
     "metadata": {},
     "output_type": "execute_result"
    }
   ],
   "source": [
    "list(zip(a,b,c))"
   ]
  },
  {
   "cell_type": "code",
   "execution_count": 130,
   "id": "4689912c",
   "metadata": {},
   "outputs": [],
   "source": [
    "str1 = '''\n",
    "    whitespaces!\n",
    "         are\n",
    "         \n",
    "         \n",
    "         preserved!\n",
    "         \n",
    "         what?    \n",
    "'''"
   ]
  },
  {
   "cell_type": "code",
   "execution_count": 131,
   "id": "8a0a403d",
   "metadata": {},
   "outputs": [
    {
     "data": {
      "text/plain": [
       "'\\n    whitespaces!\\n         are\\n         \\n         \\n         preserved!\\n         \\n         what?    \\n'"
      ]
     },
     "execution_count": 131,
     "metadata": {},
     "output_type": "execute_result"
    }
   ],
   "source": [
    "str1"
   ]
  },
  {
   "cell_type": "code",
   "execution_count": 132,
   "id": "62a5aa15",
   "metadata": {},
   "outputs": [],
   "source": [
    "def multiple_lists(a,b):\n",
    "    print(a)\n",
    "    print(b)"
   ]
  },
  {
   "cell_type": "code",
   "execution_count": 133,
   "id": "685049b6",
   "metadata": {},
   "outputs": [
    {
     "name": "stdout",
     "output_type": "stream",
     "text": [
      "['a', 'b', 'c']\n",
      "[1, 2, 3, 4]\n"
     ]
    }
   ],
   "source": [
    "multiple_lists(a,b)"
   ]
  },
  {
   "cell_type": "code",
   "execution_count": 134,
   "id": "93dd6c41",
   "metadata": {},
   "outputs": [],
   "source": [
    "a = [1,2,3,4,5]\n",
    "b = [1,2,4,10,5]"
   ]
  },
  {
   "cell_type": "code",
   "execution_count": 135,
   "id": "0bc5c744",
   "metadata": {},
   "outputs": [
    {
     "ename": "TypeError",
     "evalue": "filter expected 2 arguments, got 3",
     "output_type": "error",
     "traceback": [
      "\u001b[0;31m---------------------------------------------------------------------------\u001b[0m",
      "\u001b[0;31mTypeError\u001b[0m                                 Traceback (most recent call last)",
      "\u001b[0;32m/var/folders/nn/c52y0d3j0gq59dpsswchkt2r0000gn/T/ipykernel_83387/3680813093.py\u001b[0m in \u001b[0;36m<module>\u001b[0;34m\u001b[0m\n\u001b[0;32m----> 1\u001b[0;31m \u001b[0mc\u001b[0m \u001b[0;34m=\u001b[0m \u001b[0mlist\u001b[0m\u001b[0;34m(\u001b[0m\u001b[0mfilter\u001b[0m\u001b[0;34m(\u001b[0m\u001b[0;32mlambda\u001b[0m \u001b[0mx\u001b[0m\u001b[0;34m,\u001b[0m\u001b[0my\u001b[0m\u001b[0;34m:\u001b[0m \u001b[0mx\u001b[0m \u001b[0;32mif\u001b[0m \u001b[0mx\u001b[0m \u001b[0;34m==\u001b[0m \u001b[0my\u001b[0m \u001b[0;32melse\u001b[0m \u001b[0my\u001b[0m\u001b[0;34m,\u001b[0m \u001b[0ma\u001b[0m\u001b[0;34m,\u001b[0m\u001b[0mb\u001b[0m\u001b[0;34m)\u001b[0m\u001b[0;34m)\u001b[0m\u001b[0;34m\u001b[0m\u001b[0;34m\u001b[0m\u001b[0m\n\u001b[0m",
      "\u001b[0;31mTypeError\u001b[0m: filter expected 2 arguments, got 3"
     ]
    }
   ],
   "source": [
    "c = list(filter(lambda x,y: x if x == y else y, a,b))"
   ]
  },
  {
   "cell_type": "code",
   "execution_count": 141,
   "id": "c3ca6b8b",
   "metadata": {},
   "outputs": [],
   "source": [
    "# map?"
   ]
  },
  {
   "cell_type": "code",
   "execution_count": 137,
   "id": "1a264bd9",
   "metadata": {},
   "outputs": [],
   "source": [
    "# filter?"
   ]
  },
  {
   "cell_type": "code",
   "execution_count": 139,
   "id": "fe4a82fc",
   "metadata": {},
   "outputs": [],
   "source": [
    "# reduce?"
   ]
  },
  {
   "cell_type": "code",
   "execution_count": null,
   "id": "31360787",
   "metadata": {},
   "outputs": [],
   "source": []
  }
 ],
 "metadata": {
  "kernelspec": {
   "display_name": "Python 3 (ipykernel)",
   "language": "python",
   "name": "python3"
  },
  "language_info": {
   "codemirror_mode": {
    "name": "ipython",
    "version": 3
   },
   "file_extension": ".py",
   "mimetype": "text/x-python",
   "name": "python",
   "nbconvert_exporter": "python",
   "pygments_lexer": "ipython3",
   "version": "3.9.5"
  }
 },
 "nbformat": 4,
 "nbformat_minor": 5
}
